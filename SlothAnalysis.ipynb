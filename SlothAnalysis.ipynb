{
 "cells": [
  {
   "cell_type": "code",
   "execution_count": 24,
   "id": "ec521d2c-5b76-4431-a934-13f0be524131",
   "metadata": {},
   "outputs": [
    {
     "name": "stdout",
     "output_type": "stream",
     "text": [
      "Cloning into 'Sloth-Analysis'...\n",
      "remote: Enumerating objects: 7, done.\u001b[K\n",
      "remote: Counting objects: 100% (7/7), done.\u001b[K\n",
      "remote: Compressing objects: 100% (7/7), done.\u001b[K\n",
      "remote: Total 7 (delta 1), reused 0 (delta 0), pack-reused 0\u001b[K\n",
      "Receiving objects: 100% (7/7), done.\n",
      "Resolving deltas: 100% (1/1), done.\n"
     ]
    }
   ],
   "source": [
    "\n",
    "!git clone https://github.com/bia38/Sloth-Analysis.git"
   ]
  },
  {
   "cell_type": "markdown",
   "id": "8e508051-dd6e-4515-b37d-ca8bc5a93f2a",
   "metadata": {},
   "source": [
    "**Let's import the needed modules and dataset**"
   ]
  },
  {
   "cell_type": "markdown",
   "id": "3136e8f0-efd3-405b-ab1e-5bbd47dd57f7",
   "metadata": {},
   "source": [
    "Sloths!\n",
    "Sloths are a group of arboreal Neotropical xenarthran mammals, constituting the suborder Folivora. Noted for their slowness of movement, they spend most of their lives hanging upside down in the trees of the tropical rainforests of South America and Central America.\n",
    "\n",
    "There are six extant sloth species in two genera – Bradypus (three–toed sloths) and Choloepus (two–toed sloths). Despite this traditional naming, all sloths actually have three toes on each rear limb, although two-toed sloths have only two digits on each forelimb.\n",
    "\n",
    "Sloths are so named because of their very low metabolism and deliberate movements. Sloth, related to slow, literally means \"laziness,\" and their common names in several other languages (e.g. French paresseux) also mean \"lazy\" or similar. Their slowness permits their low-energy diet of leaves and avoids detection by predatory hawks and cats that hunt by sight.\n",
    "\n",
    "https://en.wikipedia.org/wiki/Sloth"
   ]
  },
  {
   "cell_type": "code",
   "execution_count": 25,
   "id": "ac0647f6-d13e-4534-a14e-ee998685095b",
   "metadata": {},
   "outputs": [
    {
     "data": {
      "text/html": [
       "<table border=\"1\" class=\"dataframe\">\n",
       "    <thead>\n",
       "        <tr>\n",
       "            <th>Claw_Length_cm</th> <th>Endangered</th> <th>Size_cm</th> <th>Species</th> <th>Sub_Species</th> <th>Tail_Length_cm</th> <th>Weight_kg</th>\n",
       "        </tr>\n",
       "    </thead>\n",
       "    <tbody>\n",
       "        <tr>\n",
       "            <td>7.195         </td> <td>least_concern</td> <td>49.905 </td> <td>three_toed</td> <td>Pale-throated sloth    </td> <td>4.855         </td> <td>5.737    </td>\n",
       "        </tr>\n",
       "        <tr>\n",
       "            <td>5.987         </td> <td>least_concern</td> <td>63.257 </td> <td>two_toed  </td> <td>Hoffmans two-toed sloth</td> <td>2.147         </td> <td>6.017    </td>\n",
       "        </tr>\n",
       "        <tr>\n",
       "            <td>5.89          </td> <td>least_concern</td> <td>61.366 </td> <td>two_toed  </td> <td>Hoffmans two-toed sloth</td> <td>3.208         </td> <td>5.355    </td>\n",
       "        </tr>\n",
       "        <tr>\n",
       "            <td>8.244         </td> <td>least_concern</td> <td>65.266 </td> <td>two_toed  </td> <td>Linnaeus two-toed sloth</td> <td>2.075         </td> <td>5.452    </td>\n",
       "        </tr>\n",
       "        <tr>\n",
       "            <td>5.731         </td> <td>least_concern</td> <td>62.434 </td> <td>two_toed  </td> <td>Hoffmans two-toed sloth</td> <td>3.526         </td> <td>5.373    </td>\n",
       "        </tr>\n",
       "    </tbody>\n",
       "</table>\n",
       "<p>... (995 rows omitted)</p>"
      ],
      "text/plain": [
       "<IPython.core.display.HTML object>"
      ]
     },
     "metadata": {},
     "output_type": "display_data"
    }
   ],
   "source": [
    "from datascience import *\n",
    "import numpy as np\n",
    "\n",
    "%matplotlib inline\n",
    "import matplotlib.pyplot as plots\n",
    "plots.style.use('fivethirtyeight')\n",
    "\n",
    "import warnings\n",
    "warnings.simplefilter('ignore', FutureWarning)\n",
    "\n",
    "sloth = Table.read_table('https://raw.githubusercontent.com/JA-McLean/STOR120/master/data/sloth120.csv')\n",
    "sloth.show(5)"
   ]
  },
  {
   "cell_type": "markdown",
   "id": "5eee1183-b9fc-4cd7-afc5-59e84e0b5986",
   "metadata": {},
   "source": [
    "**1 EXPLORATORY DATA ANALYSIS**"
   ]
  },
  {
   "cell_type": "markdown",
   "id": "f44a08a4-fc0c-4c40-9b2e-88e644590aa2",
   "metadata": {},
   "source": [
    "1.1 Let's construct a table sloth_means with six rows and five columns. \n",
    "There should be one row for each sub species of sloth. The columns should be the name of the sub species, mean claw lengths, mean tail lengths, mean sizes, and mean weights."
   ]
  },
  {
   "cell_type": "code",
   "execution_count": 26,
   "id": "2aadbd52-c3ca-498b-95a5-383144660c75",
   "metadata": {},
   "outputs": [
    {
     "data": {
      "text/html": [
       "<table border=\"1\" class=\"dataframe\">\n",
       "    <thead>\n",
       "        <tr>\n",
       "            <th>Sub_Species</th> <th>Claw_Length_cm mean</th> <th>Size_cm mean</th> <th>Tail_Length_cm mean</th> <th>Weight_kg mean</th>\n",
       "        </tr>\n",
       "    </thead>\n",
       "    <tbody>\n",
       "        <tr>\n",
       "            <td>Brown-throated sloth   </td> <td>7.44171            </td> <td>61.0119     </td> <td>5.72225            </td> <td>4.23063       </td>\n",
       "        </tr>\n",
       "        <tr>\n",
       "            <td>Hoffmans two-toed sloth</td> <td>5.7556             </td> <td>63.0179     </td> <td>2.66505            </td> <td>5.57179       </td>\n",
       "        </tr>\n",
       "        <tr>\n",
       "            <td>Linnaeus two-toed sloth</td> <td>8.86383            </td> <td>65.8075     </td> <td>1.8031             </td> <td>6.47693       </td>\n",
       "        </tr>\n",
       "        <tr>\n",
       "            <td>Maned three-toed sloth </td> <td>7.54775            </td> <td>63.5116     </td> <td>4.90664            </td> <td>5.77009       </td>\n",
       "        </tr>\n",
       "        <tr>\n",
       "            <td>Pale-throated sloth    </td> <td>7.54132            </td> <td>50.0121     </td> <td>4.91324            </td> <td>4.58988       </td>\n",
       "        </tr>\n",
       "        <tr>\n",
       "            <td>Pygmy three-toed sloth </td> <td>7.73862            </td> <td>50.5351     </td> <td>5.384              </td> <td>2.64487       </td>\n",
       "        </tr>\n",
       "    </tbody>\n",
       "</table>"
      ],
      "text/plain": [
       "Sub_Species             | Claw_Length_cm mean | Size_cm mean | Tail_Length_cm mean | Weight_kg mean\n",
       "Brown-throated sloth    | 7.44171             | 61.0119      | 5.72225             | 4.23063\n",
       "Hoffmans two-toed sloth | 5.7556              | 63.0179      | 2.66505             | 5.57179\n",
       "Linnaeus two-toed sloth | 8.86383             | 65.8075      | 1.8031              | 6.47693\n",
       "Maned three-toed sloth  | 7.54775             | 63.5116      | 4.90664             | 5.77009\n",
       "Pale-throated sloth     | 7.54132             | 50.0121      | 4.91324             | 4.58988\n",
       "Pygmy three-toed sloth  | 7.73862             | 50.5351      | 5.384               | 2.64487"
      ]
     },
     "execution_count": 26,
     "metadata": {},
     "output_type": "execute_result"
    }
   ],
   "source": [
    "sloth_means=sloth.group('Sub_Species',np.mean).drop('Endangered mean').drop('Species mean')\n",
    "sloth_means "
   ]
  },
  {
   "cell_type": "markdown",
   "id": "8432835e-318f-4c19-b317-e6cdc5a0b4d0",
   "metadata": {},
   "source": [
    "1.2-Let's construct a table sloth_SU. \n",
    "This table should contain the columns Endangered, Species, and Sub_species from the sloth table, as well as columns of the remaining quantitaive variables (Claw_Length_cm, Size_cm, Tail_Length_cm, and Weight_kg) in standard units."
   ]
  },
  {
   "cell_type": "code",
   "execution_count": 27,
   "id": "9e4c94e1-8b69-4bd2-9e6c-51bd68d4914e",
   "metadata": {},
   "outputs": [
    {
     "data": {
      "text/html": [
       "<table border=\"1\" class=\"dataframe\">\n",
       "    <thead>\n",
       "        <tr>\n",
       "            <th>Endangered</th> <th>Species</th> <th>Sub_Species</th> <th>Claw_Length_cm_SU</th> <th>Size_cm_SU</th> <th>Tail_Length_cm_SU</th> <th>Weight_kg_SU</th>\n",
       "        </tr>\n",
       "    </thead>\n",
       "    <tbody>\n",
       "        <tr>\n",
       "            <td>least_concern</td> <td>three_toed</td> <td>Pale-throated sloth    </td> <td>0.0604091        </td> <td>-1.50311  </td> <td>0.270426         </td> <td>0.649652    </td>\n",
       "        </tr>\n",
       "        <tr>\n",
       "            <td>least_concern</td> <td>two_toed  </td> <td>Hoffmans two-toed sloth</td> <td>-0.858384        </td> <td>0.75551   </td> <td>-1.43598         </td> <td>0.882817    </td>\n",
       "        </tr>\n",
       "        <tr>\n",
       "            <td>least_concern</td> <td>two_toed  </td> <td>Hoffmans two-toed sloth</td> <td>-0.932161        </td> <td>0.435629  </td> <td>-0.767408        </td> <td>0.33155     </td>\n",
       "        </tr>\n",
       "        <tr>\n",
       "            <td>least_concern</td> <td>two_toed  </td> <td>Linnaeus two-toed sloth</td> <td>0.858269         </td> <td>1.09535   </td> <td>-1.48135         </td> <td>0.412324    </td>\n",
       "        </tr>\n",
       "        <tr>\n",
       "            <td>least_concern</td> <td>two_toed  </td> <td>Hoffmans two-toed sloth</td> <td>-1.0531          </td> <td>0.616291  </td> <td>-0.567025        </td> <td>0.346539    </td>\n",
       "        </tr>\n",
       "        <tr>\n",
       "            <td>least_concern</td> <td>three_toed</td> <td>Brown-throated sloth   </td> <td>1.01723          </td> <td>0.367289  </td> <td>1.46453          </td> <td>0.397335    </td>\n",
       "        </tr>\n",
       "        <tr>\n",
       "            <td>vulnerable   </td> <td>three_toed</td> <td>Maned three-toed sloth </td> <td>0.809591         </td> <td>1.02836   </td> <td>1.02659          </td> <td>0.22496     </td>\n",
       "        </tr>\n",
       "        <tr>\n",
       "            <td>least_concern</td> <td>three_toed</td> <td>Pale-throated sloth    </td> <td>-0.0301011       </td> <td>-1.60951  </td> <td>0.747439         </td> <td>1.16012     </td>\n",
       "        </tr>\n",
       "        <tr>\n",
       "            <td>least_concern</td> <td>two_toed  </td> <td>Hoffmans two-toed sloth</td> <td>-1.81064         </td> <td>0.494158  </td> <td>-1.44165         </td> <td>0.983577    </td>\n",
       "        </tr>\n",
       "        <tr>\n",
       "            <td>least_concern</td> <td>three_toed</td> <td>Brown-throated sloth   </td> <td>0.762434         </td> <td>0.498218  </td> <td>0.776425         </td> <td>0.411492    </td>\n",
       "        </tr>\n",
       "    </tbody>\n",
       "</table>\n",
       "<p>... (990 rows omitted)</p>"
      ],
      "text/plain": [
       "Endangered    | Species    | Sub_Species             | Claw_Length_cm_SU | Size_cm_SU | Tail_Length_cm_SU | Weight_kg_SU\n",
       "least_concern | three_toed | Pale-throated sloth     | 0.0604091         | -1.50311   | 0.270426          | 0.649652\n",
       "least_concern | two_toed   | Hoffmans two-toed sloth | -0.858384         | 0.75551    | -1.43598          | 0.882817\n",
       "least_concern | two_toed   | Hoffmans two-toed sloth | -0.932161         | 0.435629   | -0.767408         | 0.33155\n",
       "least_concern | two_toed   | Linnaeus two-toed sloth | 0.858269          | 1.09535    | -1.48135          | 0.412324\n",
       "least_concern | two_toed   | Hoffmans two-toed sloth | -1.0531           | 0.616291   | -0.567025         | 0.346539\n",
       "least_concern | three_toed | Brown-throated sloth    | 1.01723           | 0.367289   | 1.46453           | 0.397335\n",
       "vulnerable    | three_toed | Maned three-toed sloth  | 0.809591          | 1.02836    | 1.02659           | 0.22496\n",
       "least_concern | three_toed | Pale-throated sloth     | -0.0301011        | -1.60951   | 0.747439          | 1.16012\n",
       "least_concern | two_toed   | Hoffmans two-toed sloth | -1.81064          | 0.494158   | -1.44165          | 0.983577\n",
       "least_concern | three_toed | Brown-throated sloth    | 0.762434          | 0.498218   | 0.776425          | 0.411492\n",
       "... (990 rows omitted)"
      ]
     },
     "execution_count": 27,
     "metadata": {},
     "output_type": "execute_result"
    }
   ],
   "source": [
    "def standard_units(x):\n",
    "    return (x - np.mean(x))/np.std(x)\n",
    "\n",
    "sloth_SU =Table().with_columns('Endangered',sloth.column('Endangered'),\n",
    "                               'Species',sloth.column('Species'),\n",
    "                               'Sub_Species',sloth.column('Sub_Species'),\n",
    "                               'Claw_Length_cm_SU',standard_units(sloth.column('Claw_Length_cm')),\n",
    "                             'Size_cm_SU',standard_units(sloth.column('Size_cm')),\n",
    "                             'Tail_Length_cm_SU',standard_units(sloth.column('Tail_Length_cm')),\n",
    "                             'Weight_kg_SU',standard_units(sloth.column('Weight_kg'))\n",
    "                              )\n",
    "                                                                \n",
    "sloth_SU"
   ]
  },
  {
   "cell_type": "markdown",
   "id": "52957471-288c-49cf-aa6b-8f1bf7748242",
   "metadata": {},
   "source": [
    "1.3-What proportion of the sloths in the dataset are more than one standard deviation below the mean values for Claw_Length_cm and Tail_Length_cm? Let's assign this float value to small_sloth_prop"
   ]
  },
  {
   "cell_type": "code",
   "execution_count": 28,
   "id": "b291dacd-ce93-4bb0-bd1b-073f3fe2e497",
   "metadata": {},
   "outputs": [
    {
     "data": {
      "text/plain": [
       "0.081"
      ]
     },
     "execution_count": 28,
     "metadata": {},
     "output_type": "execute_result"
    }
   ],
   "source": [
    "small_sloth_prop = sloth_SU.where('Claw_Length_cm_SU',\n",
    "                                  are.below(-1)).where('Tail_Length_cm_SU',\n",
    "                                                       are.below(-1)).num_rows/sloth_SU.num_rows\n",
    "small_sloth_prop"
   ]
  },
  {
   "cell_type": "markdown",
   "id": "bd03556e-ad66-4f0e-afc9-242f267fc5e6",
   "metadata": {},
   "source": [
    "1.4-what sub species of sloth do the majority of these sloths belong to? Let assign this string to small_sloth_majority_sub_species"
   ]
  },
  {
   "cell_type": "code",
   "execution_count": 29,
   "id": "e00fea31-b859-4884-adc1-e2cd391b48cf",
   "metadata": {},
   "outputs": [
    {
     "data": {
      "text/plain": [
       "'Hoffmans two-toed sloth'"
      ]
     },
     "execution_count": 29,
     "metadata": {},
     "output_type": "execute_result"
    }
   ],
   "source": [
    "small_sloth_majority_sub_species = sloth_SU.where('Claw_Length_cm_SU',\n",
    "                                  are.below(-1)).where('Tail_Length_cm_SU',\n",
    "                                                       are.below(-1)).group('Sub_Species').sort('count',\n",
    "                                                                                                descending=True).column(0).item(0)\n",
    "small_sloth_majority_sub_species"
   ]
  },
  {
   "cell_type": "markdown",
   "id": "bdcf6ab0-4b23-47c7-b7b4-03e45e22ae51",
   "metadata": {},
   "source": [
    "1.5-Let's construct a scatter plot with the sloths' tail length on the horizontal axis and weight on the vertical axis (using the original sloth table). Include the best fit line in this plot"
   ]
  },
  {
   "cell_type": "code",
   "execution_count": 30,
   "id": "06afaaf9-4379-45d6-b683-d6ad8c7778da",
   "metadata": {},
   "outputs": [
    {
     "data": {
      "image/png": "[encoded data removed]",
      "text/plain": [
       "<Figure size 360x360 with 1 Axes>"
      ]
     },
     "metadata": {},
     "output_type": "display_data"
    }
   ],
   "source": [
    "sloth.scatter('Tail_Length_cm','Weight_kg',fit_line=True)"
   ]
  },
  {
   "cell_type": "markdown",
   "id": "d447c870-fb3a-48f0-99aa-98d58309be62",
   "metadata": {},
   "source": [
    "1.6-Let's calculate the correlation coefficient for the relationship between the sloths' tail length and weight and assign this value to corr"
   ]
  },
  {
   "cell_type": "code",
   "execution_count": 31,
   "id": "da03fd74-5506-44cd-9273-b9331028fffd",
   "metadata": {},
   "outputs": [
    {
     "data": {
      "text/plain": [
       "-0.3681662674527372"
      ]
     },
     "execution_count": 31,
     "metadata": {},
     "output_type": "execute_result"
    }
   ],
   "source": [
    "def correlation(t, x, y):\n",
    "    return np.mean(standard_units(t.column(x))*standard_units(t.column(y)))\n",
    "\n",
    "\n",
    "corr =correlation(sloth,'Tail_Length_cm','Weight_kg')\n",
    "corr"
   ]
  },
  {
   "cell_type": "markdown",
   "id": "1afe3ab2-fbd2-4c5e-8555-b3abd76c1ae6",
   "metadata": {},
   "source": [
    "**2 TESTING AND PREDICTIONS**"
   ]
  },
  {
   "cell_type": "markdown",
   "id": "31aa5652-30b5-49b0-9aba-479fbe084a82",
   "metadata": {},
   "source": [
    "The mean attributes for some sloth sub species are quite different, while some are similar. The mean claw lengths for instance for the Brown-throated sloth and the Pale-throated sloth are roughly a millimeter different on average. Given the large sample size, does this small difference provide evidence that Brown-throated sloth and Pale-throated sloth have different mean claw lengths?"
   ]
  },
  {
   "cell_type": "markdown",
   "id": "e4ccae04-d9b1-4075-86f3-bfe6512b9ac0",
   "metadata": {},
   "source": [
    "2.1.1 Let's construct a new table throated_sloth that contains only sloths of the sub species Brown-throated sloth and Pale-throated sloth (using the original sloth table)"
   ]
  },
  {
   "cell_type": "code",
   "execution_count": 32,
   "id": "48c4805a-637d-4833-a948-73a9c42c9d9f",
   "metadata": {},
   "outputs": [
    {
     "data": {
      "text/html": [
       "<table border=\"1\" class=\"dataframe\">\n",
       "    <thead>\n",
       "        <tr>\n",
       "            <th>Claw_Length_cm</th> <th>Endangered</th> <th>Size_cm</th> <th>Species</th> <th>Sub_Species</th> <th>Tail_Length_cm</th> <th>Weight_kg</th>\n",
       "        </tr>\n",
       "    </thead>\n",
       "    <tbody>\n",
       "        <tr>\n",
       "            <td>7.195         </td> <td>least_concern</td> <td>49.905 </td> <td>three_toed</td> <td>Pale-throated sloth </td> <td>4.855         </td> <td>5.737    </td>\n",
       "        </tr>\n",
       "        <tr>\n",
       "            <td>8.453         </td> <td>least_concern</td> <td>60.962 </td> <td>three_toed</td> <td>Brown-throated sloth</td> <td>6.75          </td> <td>5.434    </td>\n",
       "        </tr>\n",
       "        <tr>\n",
       "            <td>7.076         </td> <td>least_concern</td> <td>49.276 </td> <td>three_toed</td> <td>Pale-throated sloth </td> <td>5.612         </td> <td>6.35     </td>\n",
       "        </tr>\n",
       "        <tr>\n",
       "            <td>8.118         </td> <td>least_concern</td> <td>61.736 </td> <td>three_toed</td> <td>Brown-throated sloth</td> <td>5.658         </td> <td>5.451    </td>\n",
       "        </tr>\n",
       "        <tr>\n",
       "            <td>7.068         </td> <td>least_concern</td> <td>51.746 </td> <td>three_toed</td> <td>Pale-throated sloth </td> <td>5.049         </td> <td>5.014    </td>\n",
       "        </tr>\n",
       "        <tr>\n",
       "            <td>7.753         </td> <td>least_concern</td> <td>61.944 </td> <td>three_toed</td> <td>Brown-throated sloth</td> <td>5.303         </td> <td>2.972    </td>\n",
       "        </tr>\n",
       "        <tr>\n",
       "            <td>8.151         </td> <td>least_concern</td> <td>59.909 </td> <td>three_toed</td> <td>Brown-throated sloth</td> <td>6.181         </td> <td>4.505    </td>\n",
       "        </tr>\n",
       "        <tr>\n",
       "            <td>8.564         </td> <td>least_concern</td> <td>60.617 </td> <td>three_toed</td> <td>Brown-throated sloth</td> <td>3.816         </td> <td>4.08     </td>\n",
       "        </tr>\n",
       "        <tr>\n",
       "            <td>9.073         </td> <td>least_concern</td> <td>59.734 </td> <td>three_toed</td> <td>Brown-throated sloth</td> <td>6.803         </td> <td>4.961    </td>\n",
       "        </tr>\n",
       "        <tr>\n",
       "            <td>6.246         </td> <td>least_concern</td> <td>52.758 </td> <td>three_toed</td> <td>Pale-throated sloth </td> <td>5.199         </td> <td>4.768    </td>\n",
       "        </tr>\n",
       "    </tbody>\n",
       "</table>\n",
       "<p>... (538 rows omitted)</p>"
      ],
      "text/plain": [
       "Claw_Length_cm | Endangered    | Size_cm | Species    | Sub_Species          | Tail_Length_cm | Weight_kg\n",
       "7.195          | least_concern | 49.905  | three_toed | Pale-throated sloth  | 4.855          | 5.737\n",
       "8.453          | least_concern | 60.962  | three_toed | Brown-throated sloth | 6.75           | 5.434\n",
       "7.076          | least_concern | 49.276  | three_toed | Pale-throated sloth  | 5.612          | 6.35\n",
       "8.118          | least_concern | 61.736  | three_toed | Brown-throated sloth | 5.658          | 5.451\n",
       "7.068          | least_concern | 51.746  | three_toed | Pale-throated sloth  | 5.049          | 5.014\n",
       "7.753          | least_concern | 61.944  | three_toed | Brown-throated sloth | 5.303          | 2.972\n",
       "8.151          | least_concern | 59.909  | three_toed | Brown-throated sloth | 6.181          | 4.505\n",
       "8.564          | least_concern | 60.617  | three_toed | Brown-throated sloth | 3.816          | 4.08\n",
       "9.073          | least_concern | 59.734  | three_toed | Brown-throated sloth | 6.803          | 4.961\n",
       "6.246          | least_concern | 52.758  | three_toed | Pale-throated sloth  | 5.199          | 4.768\n",
       "... (538 rows omitted)"
      ]
     },
     "execution_count": 32,
     "metadata": {},
     "output_type": "execute_result"
    }
   ],
   "source": [
    "throated_sloth=sloth.where('Sub_Species',are.not_equal_to('Hoffmans two-toed sloth')).where('Sub_Species',are.not_equal_to('Linnaeus two-toed sloth')).where('Sub_Species',\n",
    "are.not_equal_to('Maned three-toed sloth')).where('Sub_Species',are.not_equal_to('Pygmy three-toed sloth'))\n",
    "throated_sloth"
   ]
  },
  {
   "cell_type": "markdown",
   "id": "7cfc2668-1578-466e-b2c6-a5c7e17533f5",
   "metadata": {},
   "source": [
    "2.1.2 Let's find the absolute difference in mean claw length between Brown-throated sloth and Pale-throated sloth from either the throated_sloth "
   ]
  },
  {
   "cell_type": "code",
   "execution_count": 33,
   "id": "a8bc75a2-550e-4329-9ce1-cb4c7788c19f",
   "metadata": {},
   "outputs": [
    {
     "data": {
      "text/plain": [
       "0.09961589439295881"
      ]
     },
     "execution_count": 33,
     "metadata": {},
     "output_type": "execute_result"
    }
   ],
   "source": [
    "def difference_of_props(table, group_label, outcome):\n",
    "    \"\"\"Takes: name of table, column label of binary categorical variable,\n",
    "    column label of group-label variable\n",
    "    Returns: Difference of proportions of the two groups\"\"\"\n",
    "    \n",
    "    #table with the two relevant columns\n",
    "    reduced = table.select(outcome, group_label)  \n",
    "    \n",
    "    # table containing counts for each group\n",
    "    summary_table = reduced.group(group_label, np.mean)\n",
    "    \n",
    "    return summary_table.column(1).item(0) - summary_table.column(1).item(1)\n",
    "\n",
    "mean_claw_diff = abs(difference_of_props(throated_sloth,'Sub_Species','Claw_Length_cm'))\n",
    "mean_claw_diff"
   ]
  },
  {
   "cell_type": "markdown",
   "id": "825efdc2-8250-48a5-bd6b-32efd9131914",
   "metadata": {},
   "source": [
    "2.1.3 Let's perform a hypothesis test (using A/B testing methods) to draw a conclusion about the null and alternative hypotheses below at a 5% significance level. Let perform your simulation only 500 times! Let assign the p-value of your hypothesis test to sloth_p_value"
   ]
  },
  {
   "cell_type": "markdown",
   "id": "8e6cfa43-9ae9-4bcb-94e6-abdadbfe1688",
   "metadata": {},
   "source": [
    "Null Hypothesis: There is no difference in the mean claw lengths of Brown-throated sloths and Pale-throated sloths.\n",
    "\n",
    "Alternative Hypothesis: There is a difference in the mean claw lengths of Brown-throated sloths and Pale-throated sloths."
   ]
  },
  {
   "cell_type": "code",
   "execution_count": 34,
   "id": "37d41780-2aaf-443e-a284-171dbcfde106",
   "metadata": {},
   "outputs": [
    {
     "name": "stdout",
     "output_type": "stream",
     "text": [
      "Observed Difference: 0.09961589439295881\n"
     ]
    },
    {
     "data": {
      "image/png": "[encoded data removed]",
      "text/plain": [
       "<Figure size 432x288 with 1 Axes>"
      ]
     },
     "metadata": {},
     "output_type": "display_data"
    }
   ],
   "source": [
    "# Perform your hypothesis test here\n",
    "def one_simulated_difference(table, group_label, outcome):\n",
    "    \"\"\"Takes: name of table, column label of binary cateogorcial variable,\n",
    "    column label of group-label variable\n",
    "    \n",
    "    Returns: Difference of proportions of the two groups after shuffling labels\"\"\"\n",
    "    \n",
    "    # array of shuffled labels\n",
    "    shuffled_labels = table.sample(with_replacement = False).column(group_label)\n",
    "    \n",
    "    # table of outcome variable and shuffled labels\n",
    "    shuffled_table = table.select(outcome).with_column(\n",
    "        'Shuffled Label', shuffled_labels)\n",
    "    \n",
    "    return abs(difference_of_props(shuffled_table, 'Shuffled Label', outcome))\n",
    "\n",
    "differences = make_array()\n",
    "\n",
    "for i in np.arange(500):\n",
    "    new_difference = one_simulated_difference(throated_sloth, 'Sub_Species', 'Claw_Length_cm')\n",
    "    differences = np.append(differences, new_difference)\n",
    "\n",
    "Table().with_column('Difference Between Group Proportions', differences).hist(bins=9)\n",
    "print('Observed Difference:', mean_claw_diff)\n",
    "plots.title('Prediction Under the Null Hypothesis');\n",
    "plots.plot([mean_claw_diff, mean_claw_diff], [0, 5], color='red', lw=2);\n"
   ]
  },
  {
   "cell_type": "code",
   "execution_count": 11,
   "id": "43338713-a26d-4632-a5ea-15e2270bae53",
   "metadata": {},
   "outputs": [
    {
     "data": {
      "text/plain": [
       "0.248"
      ]
     },
     "execution_count": 11,
     "metadata": {},
     "output_type": "execute_result"
    }
   ],
   "source": [
    "sloth_p_value =p_value = sum(differences>=mean_claw_diff)/500\n",
    "p_value\n",
    "sloth_p_value"
   ]
  },
  {
   "cell_type": "markdown",
   "id": "59d89735-6af1-4ab7-a96f-75b5e56a6bfd",
   "metadata": {},
   "source": [
    "\n",
    "With a p_value of 0.246 which is greater than 0.05, the test is not significant at 5% and thus we fail to reject the null that says that there is no difference in the mean claw lengths of Brown-throated sloths and Pale-throated sloths."
   ]
  },
  {
   "cell_type": "markdown",
   "id": "2f3e75d9-7057-4292-a637-43665cecd31a",
   "metadata": {},
   "source": [
    "2.2 **Weight vs. Tail Length** "
   ]
  },
  {
   "cell_type": "markdown",
   "id": "9ed5571b-2234-44e8-90fe-acfa722783e1",
   "metadata": {},
   "source": [
    "2.2.1 We analyzed the relationship between sloths' tail length and weight. Now we will determine the slope and the intercept for the linear regression model using tail length as the predictor and weight as the response (again using the sloth table containing all six sub species of sloths). Let's assign the value of the slope of this model to sloth_slope and the intercept of this model to sloth_intercept"
   ]
  },
  {
   "cell_type": "code",
   "execution_count": 35,
   "id": "237a6ad6-84d5-4c3a-b72f-ed148c479636",
   "metadata": {},
   "outputs": [
    {
     "data": {
      "text/plain": [
       "4.796894975590892"
      ]
     },
     "execution_count": 35,
     "metadata": {},
     "output_type": "execute_result"
    }
   ],
   "source": [
    "def standard_units(x):\n",
    "    return (x - np.mean(x))/np.std(x)\n",
    "\n",
    "\n",
    "def slope(t, label_x, label_y):\n",
    "    r = correlation(t, label_x, label_y)\n",
    "    return r*np.std(t.column(label_y))/np.std(t.column(label_x))\n",
    "\n",
    "def intercept(t, label_x, label_y):\n",
    "    return np.mean(t.column(label_y)) - slope(t, label_x, label_y)*np.mean(t.column(label_x))\n",
    "\n",
    "def fit(table, x, y):\n",
    "    \"\"\"Return the height of the regression line at each x value.\"\"\"\n",
    "    a = slope(table, x, y)\n",
    "    b = intercept(table, x, y)\n",
    "    return a * table.column(x) + b\n",
    "\n",
    "def residual(table, x, y):\n",
    "    return table.column(y) - fit(table, x, y)\n",
    "\n",
    "def residual_plot(table, x, y):\n",
    "    x_array = table.column(x)\n",
    "    t = Table().with_columns(\n",
    "            x, x_array,\n",
    "            'residuals', residual(table, x, y)\n",
    "        )\n",
    "    t.scatter(x, 'residuals', color='r')\n",
    "    xlims = make_array(min(x_array), max(x_array))\n",
    "    plots.plot(xlims, make_array(0, 0), color='darkblue', lw=4)\n",
    "    plots.title('Residual Plot')\n",
    "    \n",
    "\n",
    "def fitted_value(table, x, y, given_x):\n",
    "    a = slope(table, x, y)\n",
    "    b = intercept(table, x, y)\n",
    "    return a * given_x  + b\n",
    "\n",
    "\n",
    "sloth_slope = slope(sloth,'Tail_Length_cm','Weight_kg')\n",
    "sloth_intercept =intercept(sloth,'Tail_Length_cm','Weight_kg')\n",
    "\n",
    "# Do not change the below code\n",
    "5 * sloth_slope + sloth_intercept"
   ]
  },
  {
   "cell_type": "markdown",
   "id": "89b00212-341b-4414-9179-9251327d9bef",
   "metadata": {},
   "source": [
    "2.2.2 Let's use the linear regression model to construct a 99% confidence interval for the mean weight of sloths with a tail length of 5cm. Perform your simulation only 500 times! Let assign the upper and lower bounds of your confidence interval to lower_bound_weight and upper_bound_weight"
   ]
  },
  {
   "cell_type": "code",
   "execution_count": 36,
   "id": "ad4a5e9a-06e6-427e-94b8-a7c1d81ed6c2",
   "metadata": {},
   "outputs": [],
   "source": [
    "# Perform your simulation here\n",
    "def bootstrap_prediction(table, x, y, new_x, repetitions):\n",
    "    \n",
    "    # For each repetition:\n",
    "    # Bootstrap the scatter; \n",
    "    # get the regression prediction at new_x; \n",
    "    # augment the predictions list\n",
    "    predictions = make_array()\n",
    "    for i in np.arange(repetitions):\n",
    "        bootstrap_sample = table.sample()\n",
    "        bootstrap_prediction = fitted_value(bootstrap_sample, x, y, new_x)\n",
    "        predictions = np.append(predictions, bootstrap_prediction)\n",
    "    return predictions\n",
    "    # Find the ends of the approximate 95% prediction interval"
   ]
  },
  {
   "cell_type": "code",
   "execution_count": 37,
   "id": "a1bcd985-6745-413b-85be-024c9786cb2d",
   "metadata": {},
   "outputs": [
    {
     "data": {
      "text/plain": [
       "(4.692155405844693, 4.917231641917594)"
      ]
     },
     "execution_count": 37,
     "metadata": {},
     "output_type": "execute_result"
    }
   ],
   "source": [
    "lower_bound_weight =percentile(0.5, bootstrap_prediction(sloth,'Tail_Length_cm','Weight_kg', 5, 500))\n",
    "upper_bound_weight = percentile(99.5, bootstrap_prediction(sloth,'Tail_Length_cm','Weight_kg', 5, 500))\n",
    "\n",
    "# do not change the below code\n",
    "lower_bound_weight, upper_bound_weight"
   ]
  },
  {
   "cell_type": "markdown",
   "id": "f8baea11-47f3-4548-8f08-0f069a32a1b6",
   "metadata": {},
   "source": [
    "2.2.3 Let's construct new table sloth_with_residuals. This table should include all of the rows and columns of the sloth table, as well as two new columns. \n",
    "- Prediction for Weight - the values of the weight for each sloth predicted by the linear regression model.\n",
    "- Residual for Weight - the differences between the sloths' actual weight and the weights predicted by the linear regression model."
   ]
  },
  {
   "cell_type": "code",
   "execution_count": 38,
   "id": "b2544bbe-8a95-4798-ac78-fe153610a6ec",
   "metadata": {},
   "outputs": [
    {
     "data": {
      "text/html": [
       "<table border=\"1\" class=\"dataframe\">\n",
       "    <thead>\n",
       "        <tr>\n",
       "            <th>Claw_Length_cm</th> <th>Endangered</th> <th>Size_cm</th> <th>Species</th> <th>Sub_Species</th> <th>Tail_Length_cm</th> <th>Weight_kg</th> <th>Prediction for Weight</th> <th>Residual for Weight</th>\n",
       "        </tr>\n",
       "    </thead>\n",
       "    <tbody>\n",
       "        <tr>\n",
       "            <td>7.195         </td> <td>least_concern</td> <td>49.905 </td> <td>three_toed</td> <td>Pale-throated sloth    </td> <td>4.855         </td> <td>5.737    </td> <td>4.83729              </td> <td>0.899709           </td>\n",
       "        </tr>\n",
       "        <tr>\n",
       "            <td>5.987         </td> <td>least_concern</td> <td>63.257 </td> <td>two_toed  </td> <td>Hoffmans two-toed sloth</td> <td>2.147         </td> <td>6.017    </td> <td>5.59173              </td> <td>0.425272           </td>\n",
       "        </tr>\n",
       "        <tr>\n",
       "            <td>5.89          </td> <td>least_concern</td> <td>61.366 </td> <td>two_toed  </td> <td>Hoffmans two-toed sloth</td> <td>3.208         </td> <td>5.355    </td> <td>5.29614              </td> <td>0.0588618          </td>\n",
       "        </tr>\n",
       "        <tr>\n",
       "            <td>8.244         </td> <td>least_concern</td> <td>65.266 </td> <td>two_toed  </td> <td>Linnaeus two-toed sloth</td> <td>2.075         </td> <td>5.452    </td> <td>5.61179              </td> <td>-0.159787          </td>\n",
       "        </tr>\n",
       "        <tr>\n",
       "            <td>5.731         </td> <td>least_concern</td> <td>62.434 </td> <td>two_toed  </td> <td>Hoffmans two-toed sloth</td> <td>3.526         </td> <td>5.373    </td> <td>5.20754              </td> <td>0.165455           </td>\n",
       "        </tr>\n",
       "        <tr>\n",
       "            <td>8.453         </td> <td>least_concern</td> <td>60.962 </td> <td>three_toed</td> <td>Brown-throated sloth   </td> <td>6.75          </td> <td>5.434    </td> <td>4.30935              </td> <td>1.12465            </td>\n",
       "        </tr>\n",
       "        <tr>\n",
       "            <td>8.18          </td> <td>vulnerable   </td> <td>64.87  </td> <td>three_toed</td> <td>Maned three-toed sloth </td> <td>6.055         </td> <td>5.227    </td> <td>4.50298              </td> <td>0.724023           </td>\n",
       "        </tr>\n",
       "        <tr>\n",
       "            <td>7.076         </td> <td>least_concern</td> <td>49.276 </td> <td>three_toed</td> <td>Pale-throated sloth    </td> <td>5.612         </td> <td>6.35     </td> <td>4.62639              </td> <td>1.72361            </td>\n",
       "        </tr>\n",
       "        <tr>\n",
       "            <td>4.735         </td> <td>least_concern</td> <td>61.712 </td> <td>two_toed  </td> <td>Hoffmans two-toed sloth</td> <td>2.138         </td> <td>6.138    </td> <td>5.59424              </td> <td>0.543765           </td>\n",
       "        </tr>\n",
       "        <tr>\n",
       "            <td>8.118         </td> <td>least_concern</td> <td>61.736 </td> <td>three_toed</td> <td>Brown-throated sloth   </td> <td>5.658         </td> <td>5.451    </td> <td>4.61358              </td> <td>0.837421           </td>\n",
       "        </tr>\n",
       "    </tbody>\n",
       "</table>\n",
       "<p>... (990 rows omitted)</p>"
      ],
      "text/plain": [
       "Claw_Length_cm | Endangered    | Size_cm | Species    | Sub_Species             | Tail_Length_cm | Weight_kg | Prediction for Weight | Residual for Weight\n",
       "7.195          | least_concern | 49.905  | three_toed | Pale-throated sloth     | 4.855          | 5.737     | 4.83729               | 0.899709\n",
       "5.987          | least_concern | 63.257  | two_toed   | Hoffmans two-toed sloth | 2.147          | 6.017     | 5.59173               | 0.425272\n",
       "5.89           | least_concern | 61.366  | two_toed   | Hoffmans two-toed sloth | 3.208          | 5.355     | 5.29614               | 0.0588618\n",
       "8.244          | least_concern | 65.266  | two_toed   | Linnaeus two-toed sloth | 2.075          | 5.452     | 5.61179               | -0.159787\n",
       "5.731          | least_concern | 62.434  | two_toed   | Hoffmans two-toed sloth | 3.526          | 5.373     | 5.20754               | 0.165455\n",
       "8.453          | least_concern | 60.962  | three_toed | Brown-throated sloth    | 6.75           | 5.434     | 4.30935               | 1.12465\n",
       "8.18           | vulnerable    | 64.87   | three_toed | Maned three-toed sloth  | 6.055          | 5.227     | 4.50298               | 0.724023\n",
       "7.076          | least_concern | 49.276  | three_toed | Pale-throated sloth     | 5.612          | 6.35      | 4.62639               | 1.72361\n",
       "4.735          | least_concern | 61.712  | two_toed   | Hoffmans two-toed sloth | 2.138          | 6.138     | 5.59424               | 0.543765\n",
       "8.118          | least_concern | 61.736  | three_toed | Brown-throated sloth    | 5.658          | 5.451     | 4.61358               | 0.837421\n",
       "... (990 rows omitted)"
      ]
     },
     "execution_count": 38,
     "metadata": {},
     "output_type": "execute_result"
    }
   ],
   "source": [
    "sloth_with_residuals = sloth.with_columns('Prediction for Weight',fit(sloth,'Tail_Length_cm','Weight_kg'),\n",
    "                                          'Residual for Weight',residual(sloth,'Tail_Length_cm','Weight_kg'))\n",
    "sloth_with_residuals"
   ]
  },
  {
   "cell_type": "markdown",
   "id": "5a27536d-8920-4622-a5e0-b7cc7d01f989",
   "metadata": {},
   "source": [
    "2.2.4 Is there a pattern in the residuals based on species? To answer this, let make two plots, each with Residual for Weight on the vertical axis and Prediction for Weight on the horizontal axis. For the first plot we only use the rows in the sloth_with_residuals table corresponding to two toed sloths. For the second plotwe  only include three toed sloths. Do the two plots show similar or different patterns in variability? "
   ]
  },
  {
   "cell_type": "code",
   "execution_count": 39,
   "id": "ddd9fc07-8f77-4f19-b1a1-b92f049d2181",
   "metadata": {},
   "outputs": [
    {
     "data": {
      "image/png": "[encoded data removed]",
      "text/plain": [
       "<Figure size 360x360 with 1 Axes>"
      ]
     },
     "metadata": {},
     "output_type": "display_data"
    }
   ],
   "source": [
    "# Plot for two toed sloths\n",
    "sloth_with_residuals.where('Species','two_toed').scatter('Prediction for Weight','Residual for Weight')"
   ]
  },
  {
   "cell_type": "code",
   "execution_count": 40,
   "id": "9ecf13ca-6067-4baa-adc9-55ae225bdee2",
   "metadata": {},
   "outputs": [
    {
     "data": {
      "image/png": "[encoded data removed]",
      "text/plain": [
       "<Figure size 360x360 with 1 Axes>"
      ]
     },
     "metadata": {},
     "output_type": "display_data"
    }
   ],
   "source": [
    "# Plot for three toed sloths\n",
    "sloth_with_residuals.where('Species','three_toed').scatter('Prediction for Weight','Residual for Weight')"
   ]
  },
  {
   "cell_type": "markdown",
   "id": "2adc64df-b2e7-48e8-aa63-f9074d53a070",
   "metadata": {},
   "source": [
    "Conlcusion:\n",
    "\n",
    "The two plots do not show similar patterns in variability. The residual plot with the two-toed sloths shows a fan pattern which means the variance of the residuals is not constant. The residual plot with three-toed sloths does not display any identified pattern, so the variance of the residuals seems much constant.In short, the two plots have different variability."
   ]
  },
  {
   "cell_type": "markdown",
   "id": "30156b1a-6dc8-4735-9d4e-73c10faa11fb",
   "metadata": {},
   "source": [
    "**3 CLASSIIFICATION**"
   ]
  },
  {
   "cell_type": "markdown",
   "id": "268307f1-ca7a-4dfa-8948-148ed272f919",
   "metadata": {},
   "source": [
    "3.1 let's construct a new table sloth_classify with three columns. The first two columns should be sloths' claw length and tail length in standard units. The third column should be named Class and equal to the integer 1 for sloths of the sub species Hoffman’s two-toed sloth and the integer 0 for all other sub species of sloth."
   ]
  },
  {
   "cell_type": "code",
   "execution_count": 41,
   "id": "72e326db-304b-4795-af11-1ad0278b6e64",
   "metadata": {},
   "outputs": [
    {
     "data": {
      "text/html": [
       "<table border=\"1\" class=\"dataframe\">\n",
       "    <thead>\n",
       "        <tr>\n",
       "            <th>Claw_Length_cm</th> <th>Tail_Length_cm</th> <th>Class</th>\n",
       "        </tr>\n",
       "    </thead>\n",
       "    <tbody>\n",
       "        <tr>\n",
       "            <td>7.195         </td> <td>4.855         </td> <td>0    </td>\n",
       "        </tr>\n",
       "        <tr>\n",
       "            <td>5.987         </td> <td>2.147         </td> <td>1    </td>\n",
       "        </tr>\n",
       "        <tr>\n",
       "            <td>5.89          </td> <td>3.208         </td> <td>1    </td>\n",
       "        </tr>\n",
       "        <tr>\n",
       "            <td>8.244         </td> <td>2.075         </td> <td>0    </td>\n",
       "        </tr>\n",
       "        <tr>\n",
       "            <td>5.731         </td> <td>3.526         </td> <td>1    </td>\n",
       "        </tr>\n",
       "        <tr>\n",
       "            <td>8.453         </td> <td>6.75          </td> <td>0    </td>\n",
       "        </tr>\n",
       "        <tr>\n",
       "            <td>8.18          </td> <td>6.055         </td> <td>0    </td>\n",
       "        </tr>\n",
       "        <tr>\n",
       "            <td>7.076         </td> <td>5.612         </td> <td>0    </td>\n",
       "        </tr>\n",
       "        <tr>\n",
       "            <td>4.735         </td> <td>2.138         </td> <td>1    </td>\n",
       "        </tr>\n",
       "        <tr>\n",
       "            <td>8.118         </td> <td>5.658         </td> <td>0    </td>\n",
       "        </tr>\n",
       "    </tbody>\n",
       "</table>\n",
       "<p>... (990 rows omitted)</p>"
      ],
      "text/plain": [
       "Claw_Length_cm | Tail_Length_cm | Class\n",
       "7.195          | 4.855          | 0\n",
       "5.987          | 2.147          | 1\n",
       "5.89           | 3.208          | 1\n",
       "8.244          | 2.075          | 0\n",
       "5.731          | 3.526          | 1\n",
       "8.453          | 6.75           | 0\n",
       "8.18           | 6.055          | 0\n",
       "7.076          | 5.612          | 0\n",
       "4.735          | 2.138          | 1\n",
       "8.118          | 5.658          | 0\n",
       "... (990 rows omitted)"
      ]
     },
     "execution_count": 41,
     "metadata": {},
     "output_type": "execute_result"
    }
   ],
   "source": [
    "Class=make_array()\n",
    "for i in np.arange(sloth.num_rows):\n",
    "    if sloth.column('Sub_Species').item(i)=='Hoffmans two-toed sloth':\n",
    "        Class=np.append(Class,1)\n",
    "    else:\n",
    "        Class=np.append(Class,0)\n",
    "sloth_classify = Table().with_columns('Claw_Length_cm',sloth.column('Claw_Length_cm'),\n",
    "                                      'Tail_Length_cm',sloth.column('Tail_Length_cm'),\n",
    "                                     'Class',Class)\n",
    "sloth_classify"
   ]
  },
  {
   "cell_type": "code",
   "execution_count": 42,
   "id": "774ea005-1784-4f57-aad8-a79db4fb1d11",
   "metadata": {},
   "outputs": [
    {
     "data": {
      "text/html": [
       "<table border=\"1\" class=\"dataframe\">\n",
       "    <thead>\n",
       "        <tr>\n",
       "            <th>Class</th> <th>count</th>\n",
       "        </tr>\n",
       "    </thead>\n",
       "    <tbody>\n",
       "        <tr>\n",
       "            <td>0    </td> <td>743  </td>\n",
       "        </tr>\n",
       "        <tr>\n",
       "            <td>1    </td> <td>257  </td>\n",
       "        </tr>\n",
       "    </tbody>\n",
       "</table>"
      ],
      "text/plain": [
       "Class | count\n",
       "0     | 743\n",
       "1     | 257"
      ]
     },
     "execution_count": 42,
     "metadata": {},
     "output_type": "execute_result"
    }
   ],
   "source": [
    "sloth_classify.group('Class')"
   ]
  },
  {
   "cell_type": "markdown",
   "id": "429365f6-d18e-41bc-b687-22d6df23988b",
   "metadata": {},
   "source": [
    "3.2 Let's construct two new tables (sloth_train and sloth_test). We randomly assign 80% of the data in sloth_classify to the training set and the remaining 20% of the data to the testing set."
   ]
  },
  {
   "cell_type": "code",
   "execution_count": 43,
   "id": "70b37615-0dc6-445a-8832-695dfcf99221",
   "metadata": {},
   "outputs": [],
   "source": [
    "sloth.num_rows*0.8\n",
    "shuffled_sloth=sloth_classify.sample(with_replacement=False)\n",
    "\n",
    "sloth_train =shuffled_sloth.take(np.arange(800))\n",
    "sloth_test = shuffled_sloth.take(np.arange(800,1000))"
   ]
  },
  {
   "cell_type": "code",
   "execution_count": 21,
   "id": "70bcc135-e3ab-415f-86a0-de20a7329c52",
   "metadata": {},
   "outputs": [
    {
     "data": {
      "text/html": [
       "<table border=\"1\" class=\"dataframe\">\n",
       "    <thead>\n",
       "        <tr>\n",
       "            <th>Claw_Length_cm</th> <th>Tail_Length_cm</th> <th>Class</th>\n",
       "        </tr>\n",
       "    </thead>\n",
       "    <tbody>\n",
       "        <tr>\n",
       "            <td>7.249         </td> <td>2.677         </td> <td>0    </td>\n",
       "        </tr>\n",
       "        <tr>\n",
       "            <td>7.582         </td> <td>7.606         </td> <td>0    </td>\n",
       "        </tr>\n",
       "        <tr>\n",
       "            <td>6.351         </td> <td>3.348         </td> <td>1    </td>\n",
       "        </tr>\n",
       "        <tr>\n",
       "            <td>7.238         </td> <td>1.899         </td> <td>1    </td>\n",
       "        </tr>\n",
       "        <tr>\n",
       "            <td>5.165         </td> <td>3.134         </td> <td>1    </td>\n",
       "        </tr>\n",
       "        <tr>\n",
       "            <td>7.943         </td> <td>4.635         </td> <td>0    </td>\n",
       "        </tr>\n",
       "        <tr>\n",
       "            <td>7.977         </td> <td>5.354         </td> <td>0    </td>\n",
       "        </tr>\n",
       "        <tr>\n",
       "            <td>8.707         </td> <td>4.842         </td> <td>0    </td>\n",
       "        </tr>\n",
       "        <tr>\n",
       "            <td>6.251         </td> <td>3.077         </td> <td>1    </td>\n",
       "        </tr>\n",
       "        <tr>\n",
       "            <td>8.18          </td> <td>6.055         </td> <td>0    </td>\n",
       "        </tr>\n",
       "    </tbody>\n",
       "</table>\n",
       "<p>... (790 rows omitted)</p>"
      ],
      "text/plain": [
       "Claw_Length_cm | Tail_Length_cm | Class\n",
       "7.249          | 2.677          | 0\n",
       "7.582          | 7.606          | 0\n",
       "6.351          | 3.348          | 1\n",
       "7.238          | 1.899          | 1\n",
       "5.165          | 3.134          | 1\n",
       "7.943          | 4.635          | 0\n",
       "7.977          | 5.354          | 0\n",
       "8.707          | 4.842          | 0\n",
       "6.251          | 3.077          | 1\n",
       "8.18           | 6.055          | 0\n",
       "... (790 rows omitted)"
      ]
     },
     "execution_count": 21,
     "metadata": {},
     "output_type": "execute_result"
    }
   ],
   "source": [
    "sloth_train"
   ]
  },
  {
   "cell_type": "code",
   "execution_count": 44,
   "id": "a06fc8c7-1c50-4cba-ba43-32730a11edc5",
   "metadata": {},
   "outputs": [
    {
     "data": {
      "text/html": [
       "<table border=\"1\" class=\"dataframe\">\n",
       "    <thead>\n",
       "        <tr>\n",
       "            <th>Claw_Length_cm</th> <th>Tail_Length_cm</th> <th>Class</th>\n",
       "        </tr>\n",
       "    </thead>\n",
       "    <tbody>\n",
       "        <tr>\n",
       "            <td>7.114         </td> <td>4.15          </td> <td>0    </td>\n",
       "        </tr>\n",
       "        <tr>\n",
       "            <td>8.129         </td> <td>4.641         </td> <td>0    </td>\n",
       "        </tr>\n",
       "        <tr>\n",
       "            <td>5.726         </td> <td>3.442         </td> <td>1    </td>\n",
       "        </tr>\n",
       "        <tr>\n",
       "            <td>7.79          </td> <td>6.861         </td> <td>0    </td>\n",
       "        </tr>\n",
       "        <tr>\n",
       "            <td>6.985         </td> <td>6.661         </td> <td>0    </td>\n",
       "        </tr>\n",
       "        <tr>\n",
       "            <td>4.602         </td> <td>3.233         </td> <td>1    </td>\n",
       "        </tr>\n",
       "        <tr>\n",
       "            <td>9.073         </td> <td>6.803         </td> <td>0    </td>\n",
       "        </tr>\n",
       "        <tr>\n",
       "            <td>8.802         </td> <td>1.61          </td> <td>0    </td>\n",
       "        </tr>\n",
       "        <tr>\n",
       "            <td>6.982         </td> <td>4.297         </td> <td>0    </td>\n",
       "        </tr>\n",
       "        <tr>\n",
       "            <td>8.5           </td> <td>5.003         </td> <td>0    </td>\n",
       "        </tr>\n",
       "    </tbody>\n",
       "</table>\n",
       "<p>... (190 rows omitted)</p>"
      ],
      "text/plain": [
       "Claw_Length_cm | Tail_Length_cm | Class\n",
       "7.114          | 4.15           | 0\n",
       "8.129          | 4.641          | 0\n",
       "5.726          | 3.442          | 1\n",
       "7.79           | 6.861          | 0\n",
       "6.985          | 6.661          | 0\n",
       "4.602          | 3.233          | 1\n",
       "9.073          | 6.803          | 0\n",
       "8.802          | 1.61           | 0\n",
       "6.982          | 4.297          | 0\n",
       "8.5            | 5.003          | 0\n",
       "... (190 rows omitted)"
      ]
     },
     "execution_count": 44,
     "metadata": {},
     "output_type": "execute_result"
    }
   ],
   "source": [
    "sloth_test"
   ]
  },
  {
   "cell_type": "markdown",
   "id": "dac28d2a-92ac-4296-b9ee-0ac3fa589088",
   "metadata": {},
   "source": [
    "3.3 Let's use the training data set to classify the sloths in your testing data set as either Hoffman’s two-toed sloth or not Hoffman’s two-toed sloth. To answer this question, we implement a k-Nearest Neighbors algorithm (with k=5). Then we evaluate the accuracy of this classification model and assign sloth_accuracy to the proportion of the testing data that is correctly classified"
   ]
  },
  {
   "cell_type": "code",
   "execution_count": 45,
   "id": "3e93c2ed-683e-4c67-9cb8-36b05ed1a8f5",
   "metadata": {},
   "outputs": [
    {
     "data": {
      "text/plain": [
       "0.93"
      ]
     },
     "execution_count": 45,
     "metadata": {},
     "output_type": "execute_result"
    }
   ],
   "source": [
    "def standard_units(x):\n",
    "    return (x - np.mean(x))/np.std(x)\n",
    "\n",
    "\n",
    "def distance(point1, point2):\n",
    "    \"\"\"Returns the distance between point1 and point2\n",
    "    where each argument is an array \n",
    "    consisting of the coordinates of the point\"\"\"\n",
    "    return np.sqrt(np.sum((point1 - point2)**2))\n",
    "\n",
    "def all_distances(training, new_point):\n",
    "    \"\"\"Returns an array of distances\n",
    "    between each point in the training set\n",
    "    and the new point (which is a row of attributes)\"\"\"\n",
    "    attributes = training.drop('Class')\n",
    "    def distance_from_point(row):\n",
    "        return distance(np.array(list(new_point)), np.array(list(row)))\n",
    "    return attributes.apply(distance_from_point)\n",
    "\n",
    "def table_with_distances(training, new_point):\n",
    "    \"\"\"Augments the training table \n",
    "    with a column of distances from new_point\"\"\"\n",
    "    return training.with_column('Distance', all_distances(training, new_point))\n",
    "\n",
    "def closest(training, new_point, k):\n",
    "    \"\"\"Returns a table of the k rows of the augmented table\n",
    "    corresponding to the k smallest distances\"\"\"\n",
    "    with_dists = table_with_distances(training, new_point)\n",
    "    sorted_by_distance = with_dists.sort('Distance')\n",
    "    topk = sorted_by_distance.take(np.arange(k))\n",
    "    return topk\n",
    "\n",
    "def majority(topkclasses):\n",
    "    ones = topkclasses.where('Class', are.equal_to(1)).num_rows\n",
    "    zeros = topkclasses.where('Class', are.equal_to(0)).num_rows\n",
    "    if ones > zeros:\n",
    "        return 1\n",
    "    else:\n",
    "        return 0\n",
    "\n",
    "def classify(training, new_point, k):\n",
    "    closestk = closest(training, new_point, k)\n",
    "    topkclasses = closestk.select('Class')\n",
    "    return majority(topkclasses)\n",
    "\n",
    "def evaluate_accuracy(training, test, k):\n",
    "    \"\"\"Return the proportion of correctly classified examples \n",
    "    in the test set\"\"\"\n",
    "    test_attributes = test.drop('Class')\n",
    "    num_correct = 0\n",
    "    for i in np.arange(test.num_rows):\n",
    "        c = classify(training, test_attributes.row(i), k)\n",
    "        num_correct = num_correct + (c == test.column('Class').item(i))\n",
    "    return num_correct / test.num_rows\n",
    "\n",
    "\n",
    "sloth_accuracy = evaluate_accuracy(sloth_train,sloth_test, 5)\n",
    "sloth_accuracy"
   ]
  },
  {
   "cell_type": "markdown",
   "id": "984042f0-b203-4387-aa54-4dc938ea5541",
   "metadata": {},
   "source": [
    "The accuracy of the model is 0.93 which shows that the model is good."
   ]
  },
  {
   "cell_type": "code",
   "execution_count": null,
   "id": "b8846de3-8b4e-416a-b5e4-7bb81caa201b",
   "metadata": {},
   "outputs": [],
   "source": []
  }
 ],
 "metadata": {
  "kernelspec": {
   "display_name": "Python 3 (ipykernel)",
   "language": "python",
   "name": "python3"
  },
  "language_info": {
   "codemirror_mode": {
    "name": "ipython",
    "version": 3
   },
   "file_extension": ".py",
   "mimetype": "text/x-python",
   "name": "python",
   "nbconvert_exporter": "python",
   "pygments_lexer": "ipython3",
   "version": "3.9.7"
  }
 },
 "nbformat": 4,
 "nbformat_minor": 5
}
